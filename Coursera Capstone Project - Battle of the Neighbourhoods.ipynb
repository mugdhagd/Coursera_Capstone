{
 "cells": [
  {
   "cell_type": "markdown",
   "metadata": {},
   "source": [
    "## Coursera Capstone Project - Battle of the Neighbourhoods"
   ]
  },
  {
   "cell_type": "markdown",
   "metadata": {},
   "source": [
    "### 1. Problem Statement"
   ]
  },
  {
   "cell_type": "markdown",
   "metadata": {},
   "source": [
    "Selecting where to live when moving to a new city is one of the most daunting tasks faced by anyone, especially when one has limited knowledge of the city and its various lacalities. This project aims to make it easier for a new migrant into a city to quickly understand the different types of neighbourhoods in the city, and help them in making a choice of where to live based on the neighbourhood features and their personal preferences.\n",
    "\n",
    "The neighbourhoods will be clustered into groups based on similarities/ dissimilarities in their profiles. In order to cluster neighbourhoods, the following metrics were selected:\n",
    "\n",
    "1. Average house rent \n",
    "2. Crime rate\n",
    "3. Amenities such as restaurants, grocery stores, shopping centres, etc.\n",
    "\n",
    "While there are many other features such as connectivity, quality of schools, etc. that may affect a person's choice of residence, the above three factors were ultimately selected because of the ease of gathering the relevant data, and also because of the fact these factors will be common considerations for migrants across demographics and age groups.\n",
    "\n",
    "New York City was picked as the city of choice for this project, because of its metropolitan nature and due to the large number of people that move to the city every year for work, from all over the world. In addition, it was determined that the data points for each of the metrics described above are more easily available for NYC.\n"
   ]
  },
  {
   "cell_type": "markdown",
   "metadata": {},
   "source": [
    "### 2. Description of data"
   ]
  },
  {
   "cell_type": "markdown",
   "metadata": {},
   "source": [
    "The data on the various neighbourhoods and boroughs of NYC will be picked from https://geo.nyu.edu/catalog/nyu_2451_34572. This data will be used to visualise the city's neighbourhoods and their clusters.\n",
    "\n",
    "The data on the three metrics selected for clustering neighbourhoods will be obtianed as follows:\n",
    "\n",
    "1. Average house rent: Renthop.com has data on the average house rent for Studio, 1 BHK and 2 BHK apartments by neighbourhood for NYC. The dataset can be found at https://renthop.com/average-rent-in/ney-york-city-ny. However, the dataset is incomplete with rent rates for Studios and 2 BHK apartments in some neighboruhoods missing. Hence, we will be using only the average rent for 1 BHK apartments in each neighbourhood for this metric.\n",
    "\n",
    "2. Crime rate: NYC Open Data hosts a very detailed dataset of crime statistics for NYC by precinct, which will used to evaluate the crime rate for each neighbourhood. The dataset can be found at https://data.cityofnewyork.us/Public-Safety/NYC-crime/qb7u-rbmr\n",
    "\n",
    "3. Amenities: Foursquare API will be used to explore the venues in each neoghbourhood and determine the top 10 categories of venues for each neighbourhood."
   ]
  },
  {
   "cell_type": "code",
   "execution_count": null,
   "metadata": {},
   "outputs": [],
   "source": []
  }
 ],
 "metadata": {
  "kernelspec": {
   "display_name": "Python 3",
   "language": "python",
   "name": "python3"
  },
  "language_info": {
   "codemirror_mode": {
    "name": "ipython",
    "version": 3
   },
   "file_extension": ".py",
   "mimetype": "text/x-python",
   "name": "python",
   "nbconvert_exporter": "python",
   "pygments_lexer": "ipython3",
   "version": "3.6.5"
  }
 },
 "nbformat": 4,
 "nbformat_minor": 2
}
